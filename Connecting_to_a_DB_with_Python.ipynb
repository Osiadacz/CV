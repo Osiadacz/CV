{
 "cells": [
  {
   "cell_type": "code",
   "execution_count": 1,
   "metadata": {},
   "outputs": [
    {
     "name": "stdout",
     "output_type": "stream",
     "text": [
      "Conection established\n"
     ]
    }
   ],
   "source": [
    "import mysql.connector    \n",
    "\n",
    "db = mysql.connector.connect(\n",
    "    host = 'localhost',\n",
    "    user = 'root',\n",
    "    password = '2204William1401',\n",
    "    database = 'school')\n",
    "       \n",
    "print(\"Conection established\")\n",
    "    \n",
    "mycursor = db.cursor()      "
   ]
  },
  {
   "cell_type": "code",
   "execution_count": 2,
   "metadata": {},
   "outputs": [
    {
     "name": "stdout",
     "output_type": "stream",
     "text": [
      "('personID', b'int', 'NO', bytearray(b'PRI'), None, 'auto_increment')\n",
      "('ssn', b'varchar(12)', 'YES', bytearray(b''), None, '')\n",
      "('name', b'varchar(20)', 'YES', bytearray(b''), None, '')\n",
      "('lastname', b'varchar(30)', 'YES', bytearray(b''), None, '')\n",
      "('address', b'varchar(50)', 'YES', bytearray(b''), None, '')\n",
      "('year', b'int', 'YES', bytearray(b''), None, '')\n",
      "('subjects', b'varchar(100)', 'YES', bytearray(b''), None, '')\n",
      "('extracurricular', b'varchar(100)', 'YES', bytearray(b''), None, '')\n"
     ]
    }
   ],
   "source": [
    "mycursor = db.cursor()  # with this we create the table\n",
    "mycursor.execute(\"CREATE TABLE students (personID int PRIMARY KEY AUTO_INCREMENT, ssn VARCHAR(12), name VARCHAR(20), \\\n",
    "                 lastname VARCHAR(30), address VARCHAR(50), year int, subjects VARCHAR(100), extracurricular VARCHAR(100))\")\n",
    "\n",
    "mycursor.execute(\"DESCRIBE students\")\n",
    "\n",
    "for i in mycursor:\n",
    "    print(i)"
   ]
  },
  {
   "cell_type": "code",
   "execution_count": 4,
   "metadata": {},
   "outputs": [
    {
     "name": "stdout",
     "output_type": "stream",
     "text": [
      "('personID', b'int', 'NO', bytearray(b'PRI'), None, 'auto_increment')\n",
      "('ssn', b'varchar(12)', 'YES', bytearray(b''), None, '')\n",
      "('name', b'varchar(20)', 'YES', bytearray(b''), None, '')\n",
      "('lastname', b'varchar(30)', 'YES', bytearray(b''), None, '')\n",
      "('address', b'varchar(50)', 'YES', bytearray(b''), None, '')\n"
     ]
    }
   ],
   "source": [
    "mycursor = db.cursor()  \n",
    "mycursor.execute(\"CREATE TABLE parents (personID int PRIMARY KEY AUTO_INCREMENT, ssn VARCHAR(12), name VARCHAR(20), lastname VARCHAR(30), address VARCHAR(50))\")\n",
    "\n",
    "mycursor.execute(\"DESCRIBE parents\")\n",
    "\n",
    "for i in mycursor:\n",
    "    print(i)"
   ]
  },
  {
   "cell_type": "code",
   "execution_count": 6,
   "metadata": {},
   "outputs": [
    {
     "name": "stdout",
     "output_type": "stream",
     "text": [
      "(1, '784325549', 'Roger', 'Smith', '297 Potomac St', 2, 'Chemistry, physics, calculus', 'Chess')\n",
      "(2, '841644984', 'Charles', 'Murphy', '343 Park St', 3, 'Celular biology, molecular biology, anatomy', 'Football')\n"
     ]
    }
   ],
   "source": [
    "mycursor = db.cursor()  \n",
    "sql = \"INSERT INTO students (ssn, name, lastname, address, year, subjects, extracurricular) VALUES (%s,%s,%s,%s,%s,%s,%s)\"\n",
    "#val = (\"784325549\", \"Roger\", \"Smith\", \"297 Potomac St\", 2, \"Chemistry, physics, calculus\", \"Chess\")\n",
    "val = (\"841644984\", \"Charles\", \"Murphy\", \"343 Park St\", 3, \"Celular biology, molecular biology, anatomy\", \"Football\")\n",
    "\n",
    "mycursor.execute(sql, val)\n",
    "db.commit()\n",
    "\n",
    "mycursor.execute(\"SELECT * FROM students\") \n",
    "\n",
    "for i in mycursor:\n",
    "    print(i)"
   ]
  },
  {
   "cell_type": "code",
   "execution_count": 9,
   "metadata": {},
   "outputs": [
    {
     "name": "stdout",
     "output_type": "stream",
     "text": [
      "(1, '457829854', 'Robert', 'Smith', '358 Baker St')\n",
      "(2, '547315684', 'Violet', 'Jones', '78 Carroll St')\n"
     ]
    }
   ],
   "source": [
    "mycursor = db.cursor()  \n",
    "sql = \"INSERT INTO parents (ssn, name, lastname, address) VALUES (%s,%s,%s,%s)\"\n",
    "#val = (\"457829854\", \"Robert\", \"Smith\", \"358 Baker St\")\n",
    "val = (\"547315684\", \"Violet\", \"Jones\", \"78 Carroll St\")\n",
    "\n",
    "mycursor.execute(sql, val)\n",
    "db.commit()\n",
    "\n",
    "mycursor.execute(\"SELECT * FROM parents\") \n",
    "\n",
    "for i in mycursor:\n",
    "    print(i)"
   ]
  },
  {
   "cell_type": "code",
   "execution_count": 10,
   "metadata": {},
   "outputs": [
    {
     "name": "stdout",
     "output_type": "stream",
     "text": [
      "(2, '841644984', 'Charles', 'Murphy', '343 Park St', 3, 'Celular biology, molecular biology, anatomy', 'Football')\n"
     ]
    }
   ],
   "source": [
    "mycursor = db.cursor()  \n",
    "sql = \"DELETE FROM students WHERE ssn = '784325549'\"\n",
    "mycursor.execute(sql)\n",
    "db.commit()\n",
    "\n",
    "mycursor.execute(\"SELECT * FROM students\")\n",
    "\n",
    "for i in mycursor:\n",
    "    print(i)"
   ]
  },
  {
   "cell_type": "code",
   "execution_count": 12,
   "metadata": {},
   "outputs": [
    {
     "name": "stdout",
     "output_type": "stream",
     "text": [
      "(2, '547315684', 'Violet', 'Jones', '78 Carroll St')\n"
     ]
    }
   ],
   "source": [
    "mycursor = db.cursor()  \n",
    "sql = \"DELETE FROM parents WHERE ssn = '457829854'\"\n",
    "mycursor.execute(sql)\n",
    "db.commit()\n",
    "\n",
    "mycursor.execute(\"SELECT * FROM parents\")\n",
    "\n",
    "for i in mycursor:\n",
    "    print(i)"
   ]
  },
  {
   "cell_type": "code",
   "execution_count": null,
   "metadata": {},
   "outputs": [],
   "source": []
  }
 ],
 "metadata": {
  "kernelspec": {
   "display_name": "Python 3",
   "language": "python",
   "name": "python3"
  },
  "language_info": {
   "codemirror_mode": {
    "name": "ipython",
    "version": 3
   },
   "file_extension": ".py",
   "mimetype": "text/x-python",
   "name": "python",
   "nbconvert_exporter": "python",
   "pygments_lexer": "ipython3",
   "version": "3.7.4"
  }
 },
 "nbformat": 4,
 "nbformat_minor": 4
}
