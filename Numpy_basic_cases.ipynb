{
 "cells": [
  {
   "cell_type": "code",
   "execution_count": 2,
   "metadata": {},
   "outputs": [
    {
     "name": "stdout",
     "output_type": "stream",
     "text": [
      "[2 3 4]\n",
      "[[2 5 1]\n",
      " [5 6 3]\n",
      " [8 9 2]]\n"
     ]
    }
   ],
   "source": [
    "import numpy as np\n",
    "\n",
    "a = np.array([2,3,4])\n",
    "b = np.array([[2,5,1],[5,6,3],[8,9,2]])\n",
    "\n",
    "print(a)\n",
    "print(b)"
   ]
  },
  {
   "cell_type": "code",
   "execution_count": 3,
   "metadata": {},
   "outputs": [
    {
     "name": "stdout",
     "output_type": "stream",
     "text": [
      "Elements in a 3\n",
      "Elements in b 9\n"
     ]
    }
   ],
   "source": [
    "print(\"Elements in a\",a.size)  \n",
    "print(\"Elements in b\",b.size)"
   ]
  },
  {
   "cell_type": "code",
   "execution_count": 4,
   "metadata": {},
   "outputs": [
    {
     "name": "stdout",
     "output_type": "stream",
     "text": [
      "[285.25 286.15 290.45 291.5  294.05 293.05 292.7  292.85 292.05 291.6\n",
      " 288.25 288.55]\n"
     ]
    }
   ],
   "source": [
    "TempC = [12.10,13.00,17.30,18.35,20.90,19.90,19.55,19.70,18.90,18.45,15.10,15.40]\n",
    "arrayTemp = np.array(TempC)     \n",
    "print(arrayTemp+273.15)   # to change from Celcius degrees to Kelvin"
   ]
  },
  {
   "cell_type": "code",
   "execution_count": 5,
   "metadata": {},
   "outputs": [
    {
     "name": "stdout",
     "output_type": "stream",
     "text": [
      "Previous valor:  1\n",
      "Current valor:  2\n",
      "Previous valor:  3\n",
      "Current valor:  6\n",
      "Previous valor:  5\n",
      "Current valor:  10\n",
      "Previous valor:  7\n",
      "Current valor:  14\n",
      "Previous valor:  9\n",
      "Current valor:  18\n",
      "Previous valor:  11\n",
      "Current valor:  22\n"
     ]
    }
   ],
   "source": [
    "t = np.array([0,1,2,3,4,5,6,7,8,9,10,11,12])\n",
    "\n",
    "for i in range(0,12,2):\n",
    "    print(\"Previous valor: \",t[i+1])\n",
    "    t[i+1] = t[i+1]*2\n",
    "    print(\"Current valor: \",t[i+1])"
   ]
  },
  {
   "cell_type": "code",
   "execution_count": 8,
   "metadata": {},
   "outputs": [
    {
     "name": "stdout",
     "output_type": "stream",
     "text": [
      "[[1 1]\n",
      " [0 2]]\n"
     ]
    }
   ],
   "source": [
    "A = np.array([[1,1],[0,1]])\n",
    "\n",
    "for j in range(0,2):\n",
    "    A[1][j] = A[1][j]*2\n",
    "\n",
    "print(A)"
   ]
  },
  {
   "cell_type": "code",
   "execution_count": 7,
   "metadata": {},
   "outputs": [
    {
     "name": "stdin",
     "output_type": "stream",
     "text": [
      "Enter temperature for Monday first week:  17.3\n",
      "Enter temperature for Tuesday first week:  18.7\n",
      "Enter temperature for Wednesday first week:  18.2\n",
      "Enter temperature for Thursday first week:  19.1\n",
      "Enter temperature for Monday second week:  20.0\n",
      "Enter temperature for Tuesday second week:  21.7\n",
      "Enter temperature for Wednesday second week:  22.3\n",
      "Enter temperature for Thursday second week:  20.8\n"
     ]
    },
    {
     "name": "stdout",
     "output_type": "stream",
     "text": [
      "First week data:  [17.3 18.7 18.2 19.1]\n",
      "Second week data:  [20.  21.7 22.3 20.8]\n",
      "Average data per day:  [18.65 20.2  20.25 19.95]\n"
     ]
    }
   ],
   "source": [
    "import numpy as np  \n",
    "\n",
    "week_1 = np.array([])\n",
    "week_2 = np.array([])\n",
    "\n",
    "\n",
    "monday_1 = float(input(\"Enter temperature for Monday first week: \"))\n",
    "tuesday_1 = float(input(\"Enter temperature for Tuesday first week: \"))\n",
    "wednesday_1 = float(input(\"Enter temperature for Wednesday first week: \"))\n",
    "thursday_1 = float(input(\"Enter temperature for Thursday first week: \"))\n",
    " \n",
    "monday_2 = float(input(\"Enter temperature for Monday second week: \"))\n",
    "tuesday_2 = float(input(\"Enter temperature for Tuesday second week: \"))\n",
    "wednesday_2 = float(input(\"Enter temperature for Wednesday second week: \"))\n",
    "thursday_2 = float(input(\"Enter temperature for Thursday second week: \"))\n",
    "\n",
    "week_1 = np.append(week_1,[monday_1,tuesday_1,wednesday_1,thursday_1])\n",
    "week_2 = np.append(week_2,[monday_2,tuesday_2,wednesday_2,thursday_2])\n",
    "\n",
    "average = np.array((week_1+week_2)/2)\n",
    "\n",
    "print(\"First week data: \",week_1)\n",
    "print(\"Second week data: \",week_2)\n",
    "print(\"Average data per day: \",average)"
   ]
  },
  {
   "cell_type": "code",
   "execution_count": 8,
   "metadata": {},
   "outputs": [
    {
     "name": "stdin",
     "output_type": "stream",
     "text": [
      "Enter temperature for Monday first week:  17.3\n",
      "Enter temperature for Tuesday first week:  18.7\n",
      "Enter temperature for Wednesday first week:  18.2\n",
      "Enter temperature for Thursday first week:  19.1\n",
      "Enter temperature for Monday second week:  20.0\n",
      "Enter temperature for Tuesday second week:  21.7\n",
      "Enter temperature for Wednesday second week:  22.3\n",
      "Enter temperature for Thursday second week:  20.8\n"
     ]
    },
    {
     "name": "stdout",
     "output_type": "stream",
     "text": [
      "First week data:  [17.3 18.7 18.2 19.1]\n",
      "Second week data:  [20.  21.7 22.3 20.8]\n",
      "Average data per day:  [18.65 20.2  20.25 19.95]\n"
     ]
    }
   ],
   "source": [
    "def average(a,b):      # the same as above but as a function\n",
    "    return np.array(a+b)/2\n",
    "            \n",
    "week_1 = np.array([])\n",
    "week_2 = np.array([])\n",
    "\n",
    "\n",
    "monday_1 = float(input(\"Enter temperature for Monday first week: \"))\n",
    "tuesday_1 = float(input(\"Enter temperature for Tuesday first week: \"))\n",
    "wednesday_1 = float(input(\"Enter temperature for Wednesday first week: \"))\n",
    "thursday_1 = float(input(\"Enter temperature for Thursday first week: \"))\n",
    " \n",
    "monday_2 = float(input(\"Enter temperature for Monday second week: \"))\n",
    "tuesday_2 = float(input(\"Enter temperature for Tuesday second week: \"))\n",
    "wednesday_2 = float(input(\"Enter temperature for Wednesday second week: \"))\n",
    "thursday_2 = float(input(\"Enter temperature for Thursday second week: \"))\n",
    "\n",
    "week_1 = np.append(week_1,[monday_1,tuesday_1,wednesday_1,thursday_1])\n",
    "week_2 = np.append(week_2,[monday_2,tuesday_2,wednesday_2,thursday_2])\n",
    "\n",
    "a = week_1\n",
    "b = week_2\n",
    "\n",
    "print(\"First week data: \",week_1)\n",
    "print(\"Second week data: \",week_2)\n",
    "print(\"Average data per day: \",average(a,b))"
   ]
  },
  {
   "cell_type": "code",
   "execution_count": null,
   "metadata": {},
   "outputs": [],
   "source": []
  }
 ],
 "metadata": {
  "kernelspec": {
   "display_name": "Python 3",
   "language": "python",
   "name": "python3"
  },
  "language_info": {
   "codemirror_mode": {
    "name": "ipython",
    "version": 3
   },
   "file_extension": ".py",
   "mimetype": "text/x-python",
   "name": "python",
   "nbconvert_exporter": "python",
   "pygments_lexer": "ipython3",
   "version": "3.7.4"
  }
 },
 "nbformat": 4,
 "nbformat_minor": 4
}
