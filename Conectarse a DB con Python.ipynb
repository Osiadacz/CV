{
 "cells": [
  {
   "cell_type": "code",
   "execution_count": 15,
   "metadata": {},
   "outputs": [
    {
     "name": "stdout",
     "output_type": "stream",
     "text": [
      "Conexion establecida\n"
     ]
    }
   ],
   "source": [
    "import mysql.connector   #con esto conectamos a la base de datos\n",
    "\n",
    "db = mysql.connector.connect(\n",
    "    host = 'localhost',\n",
    "    user = 'root',\n",
    "    password = '2204William1401',\n",
    "    database = 'semana_7')\n",
    "       \n",
    "print(\"Conexion establecida\")\n",
    "    \n",
    "mycursor = db.cursor()   # 'cursor' nos permite generar objetos para ejecutar sentencias SQL en python     "
   ]
  },
  {
   "cell_type": "code",
   "execution_count": 17,
   "metadata": {},
   "outputs": [
    {
     "name": "stdout",
     "output_type": "stream",
     "text": [
      "('personID', b'int', 'NO', bytearray(b'PRI'), None, 'auto_increment')\n",
      "('rut', b'varchar(12)', 'YES', bytearray(b''), None, '')\n",
      "('nombre', b'varchar(20)', 'YES', bytearray(b''), None, '')\n",
      "('apellidos', b'varchar(30)', 'YES', bytearray(b''), None, '')\n",
      "('direccion', b'varchar(50)', 'YES', bytearray(b''), None, '')\n",
      "('anio', b'int', 'YES', bytearray(b''), None, '')\n",
      "('asignaturas', b'varchar(100)', 'YES', bytearray(b''), None, '')\n",
      "('actividades', b'varchar(100)', 'YES', bytearray(b''), None, '')\n"
     ]
    }
   ],
   "source": [
    "mycursor = db.cursor()  # con esto creamos la tabla 'alumnos' e imprimimos sus caracteristicas\n",
    "mycursor.execute(\"CREATE TABLE alumnos (personID int PRIMARY KEY AUTO_INCREMENT, rut VARCHAR(12), nombre VARCHAR(20), \\\n",
    "                 apellidos VARCHAR(30), direccion VARCHAR(50), anio int, asignaturas VARCHAR(100), actividades VARCHAR(100))\")\n",
    "\n",
    "mycursor.execute(\"DESCRIBE alumnos\")\n",
    "\n",
    "for i in mycursor:\n",
    "    print(i)"
   ]
  },
  {
   "cell_type": "code",
   "execution_count": 18,
   "metadata": {},
   "outputs": [
    {
     "name": "stdout",
     "output_type": "stream",
     "text": [
      "('personID', b'int', 'NO', bytearray(b'PRI'), None, 'auto_increment')\n",
      "('rut', b'varchar(12)', 'YES', bytearray(b''), None, '')\n",
      "('nombre', b'varchar(20)', 'YES', bytearray(b''), None, '')\n",
      "('apellidos', b'varchar(30)', 'YES', bytearray(b''), None, '')\n",
      "('direccion', b'varchar(50)', 'YES', bytearray(b''), None, '')\n"
     ]
    }
   ],
   "source": [
    "mycursor = db.cursor()  # con esto creamos la tabla 'apoderados' e imprimimos sus caracteristicas\n",
    "mycursor.execute(\"CREATE TABLE apoderados \\ \n",
    "                 (personID int PRIMARY KEY AUTO_INCREMENT, rut VARCHAR(12), nombre VARCHAR(20), apellidos VARCHAR(30), direccion VARCHAR(50))\")\n",
    "\n",
    "mycursor.execute(\"DESCRIBE apoderados\")\n",
    "\n",
    "for i in mycursor:\n",
    "    print(i)"
   ]
  },
  {
   "cell_type": "code",
   "execution_count": 31,
   "metadata": {},
   "outputs": [
    {
     "name": "stdout",
     "output_type": "stream",
     "text": [
      "(1, '19784565-9', 'Carlo', 'Arancibia Romero', 'Calle 13 numero 682', 3, 'Fisica, calculo, quimica', 'Baloncesto, Ajedrez')\n",
      "(2, '21548655-8', 'Valentina', 'Castro Soto', 'Pasaje Manolito numero 43', 2, 'Biologia, ingles, histologia', 'Sin actividades extras')\n",
      "(3, '21457585-K', 'Sebastian', 'Torres Ramirez', 'Ecuador 458 depto 206', 4, 'Quimica organica 2, analisis instrumental, biologia molecular', 'Tennis')\n"
     ]
    }
   ],
   "source": [
    "mycursor = db.cursor()  # con esto insertamos datos en la tabla 'alumnos'\n",
    "sql = \"INSERT INTO alumnos (rut, nombre, apellidos, direccion, anio, asignaturas, actividades) VALUES (%s,%s,%s,%s,%s,%s,%s)\"\n",
    "#val = (\"19784565-9\", \"Carlo\", \"Arancibia Romero\", \"Calle 13 numero 682\", 3, \"Fisica, calculo, quimica\", \"Baloncesto, Ajedrez\")\n",
    "#val = (\"21548655-8\", \"Valentina\", \"Castro Soto\", \"Pasaje Manolito numero 43\", 2, \"Biologia, ingles, histologia\", \"Sin actividades extras\")\n",
    "val = (\"21457585-K\", \"Sebastian\", \"Torres Ramirez\", \"Ecuador 458 depto 206\", 4, \"Quimica organica 2, analisis instrumental, biologia molecular\", \"Tennis\")\n",
    "\n",
    "mycursor.execute(sql, val)\n",
    "db.commit()\n",
    "\n",
    "mycursor.execute(\"SELECT * FROM alumnos\") # con esto mostramos los datos guardados en la tabla 'alumnos'\n",
    "\n",
    "for i in mycursor:\n",
    "    print(i)"
   ]
  },
  {
   "cell_type": "code",
   "execution_count": 34,
   "metadata": {},
   "outputs": [
    {
     "name": "stdout",
     "output_type": "stream",
     "text": [
      "(1, '12547514-2', 'Eduardo', 'Arancibia Diaz', 'Calle 13 numero 682')\n",
      "(2, '14245578-5', 'Hilda', 'Castro Vidal', 'Pasaje Manolito numero 43')\n",
      "(3, '14547848-6', 'Nicole', 'Ramirez Hernandez', 'Ecuador 458 depto 206')\n"
     ]
    }
   ],
   "source": [
    "mycursor = db.cursor()  # con esto insertamos datos en la tabla 'apoderados'\n",
    "sql = \"INSERT INTO apoderados (rut, nombre, apellidos, direccion) VALUES (%s,%s,%s,%s)\"\n",
    "#val = (\"12547514-2\", \"Eduardo\", \"Arancibia Diaz\", \"Calle 13 numero 682\")\n",
    "#val = (\"14245578-5\", \"Hilda\", \"Castro Vidal\", \"Pasaje Manolito numero 43\")\n",
    "val = (\"14547848-6\", \"Nicole\", \"Ramirez Hernandez\", \"Ecuador 458 depto 206\")\n",
    "\n",
    "mycursor.execute(sql, val)\n",
    "db.commit()\n",
    "\n",
    "mycursor.execute(\"SELECT * FROM apoderados\") # con esto mostramos los datos guardados en la tabla 'apoderados'\n",
    "\n",
    "for i in mycursor:\n",
    "    print(i)"
   ]
  },
  {
   "cell_type": "code",
   "execution_count": 35,
   "metadata": {},
   "outputs": [
    {
     "name": "stdout",
     "output_type": "stream",
     "text": [
      "(1, '19784565-9', 'Carlo', 'Arancibia Romero', 'Calle 13 numero 682', 3, 'Fisica, calculo, quimica', 'Baloncesto, Ajedrez')\n",
      "(3, '21457585-K', 'Sebastian', 'Torres Ramirez', 'Ecuador 458 depto 206', 4, 'Quimica organica 2, analisis instrumental, biologia molecular', 'Tennis')\n"
     ]
    }
   ],
   "source": [
    "mycursor = db.cursor()  # con esto borramos el dato seleccionado de la tabla 'alumnos'\n",
    "sql = \"DELETE FROM alumnos WHERE rut = '21548655-8'\"\n",
    "mycursor.execute(sql)\n",
    "db.commit()\n",
    "\n",
    "mycursor.execute(\"SELECT * FROM alumnos\")\n",
    "\n",
    "for i in mycursor:\n",
    "    print(i)"
   ]
  },
  {
   "cell_type": "code",
   "execution_count": 36,
   "metadata": {},
   "outputs": [
    {
     "name": "stdout",
     "output_type": "stream",
     "text": [
      "(1, '12547514-2', 'Eduardo', 'Arancibia Diaz', 'Calle 13 numero 682')\n",
      "(3, '14547848-6', 'Nicole', 'Ramirez Hernandez', 'Ecuador 458 depto 206')\n"
     ]
    }
   ],
   "source": [
    "mycursor = db.cursor()  # con esto borramos el dato seleccionado de la tabla 'apoderados'\n",
    "sql = \"DELETE FROM apoderados WHERE rut = '14245578-5'\"\n",
    "mycursor.execute(sql)\n",
    "db.commit()\n",
    "\n",
    "mycursor.execute(\"SELECT * FROM apoderados\")\n",
    "\n",
    "for i in mycursor:\n",
    "    print(i)"
   ]
  },
  {
   "cell_type": "code",
   "execution_count": null,
   "metadata": {},
   "outputs": [],
   "source": []
  }
 ],
 "metadata": {
  "kernelspec": {
   "display_name": "Python 3",
   "language": "python",
   "name": "python3"
  },
  "language_info": {
   "codemirror_mode": {
    "name": "ipython",
    "version": 3
   },
   "file_extension": ".py",
   "mimetype": "text/x-python",
   "name": "python",
   "nbconvert_exporter": "python",
   "pygments_lexer": "ipython3",
   "version": "3.7.4"
  }
 },
 "nbformat": 4,
 "nbformat_minor": 4
}
