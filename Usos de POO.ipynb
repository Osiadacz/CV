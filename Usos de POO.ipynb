{
 "cells": [
  {
   "cell_type": "code",
   "execution_count": null,
   "metadata": {},
   "outputs": [],
   "source": []
  },
  {
   "cell_type": "code",
   "execution_count": null,
   "metadata": {},
   "outputs": [],
   "source": []
  },
  {
   "cell_type": "code",
   "execution_count": null,
   "metadata": {},
   "outputs": [],
   "source": []
  },
  {
   "cell_type": "code",
   "execution_count": null,
   "metadata": {},
   "outputs": [],
   "source": []
  },
  {
   "cell_type": "code",
   "execution_count": null,
   "metadata": {},
   "outputs": [],
   "source": []
  },
  {
   "cell_type": "code",
   "execution_count": 29,
   "metadata": {},
   "outputs": [
    {
     "name": "stdin",
     "output_type": "stream",
     "text": [
      "Ingrese el nombre del apoderado:  Hector\n",
      "Ingrese los apellidos del apoderado:  Arancibia Romero\n",
      "Ingrese el rut del apoderado:  13475156-8\n",
      "Ingrese la direccion del apoderado:  Calle 54 numero 7\n",
      "Ingrese el nombre del apoderado:  Carlo\n",
      "Ingrese los apellidos del apoderado:  Castro Osiadacz\n",
      "Ingrese el rut del apoderado:  10247564-9\n",
      "Ingrese la direccion del apoderado:  Pasaje Miqueas 436\n"
     ]
    },
    {
     "name": "stdout",
     "output_type": "stream",
     "text": [
      "Rut: 13475156-8, nombre: Hector, apellidos: Arancibia Romero, direccion: Calle 54 numero 7\n",
      "Rut: 10247564-9, nombre: Carlo, apellidos: Castro Osiadacz, direccion: Pasaje Miqueas 436\n",
      "{'13475156-8': <__main__.Apoderado object at 0x00000168DC6A1508>, '10247564-9': <__main__.Apoderado object at 0x00000168DBD00C48>}\n"
     ]
    },
    {
     "name": "stdin",
     "output_type": "stream",
     "text": [
      "Ingrese el nombre del alumno:  Valentina\n",
      "Ingrese los apellidos del alumno:  Arancibia Perez\n",
      "Ingrese el rut del alumno:  18647526-8\n",
      "Ingrese la direccion del alumno:  Calle 54 numero 7\n",
      "Ingrese el año cursado por el alumno:  tercer año\n",
      "Ingrese las asignaturas a cursar por el alumno:  Matematicas, quimica, fisica, calculo\n",
      "Ingrese las actividades extraprogramaticas, si aplica:  Esgrima, polo, danza\n",
      "Ingrese el nombre del alumno:  Isabel\n",
      "Ingrese los apellidos del alumno:  Castro Tapia\n",
      "Ingrese el rut del alumno:  19475269-2\n",
      "Ingrese la direccion del alumno:  Pasaje Miqueas 436\n",
      "Ingrese el año cursado por el alumno:  segundo año\n",
      "Ingrese las asignaturas a cursar por el alumno:  Lenguaje, ingles, educacion fisica, biologia\n",
      "Ingrese las actividades extraprogramaticas, si aplica:  no aplica\n"
     ]
    },
    {
     "name": "stdout",
     "output_type": "stream",
     "text": [
      "Rut: 18647526-8, Nombre: Valentina, Apellidos: Arancibia Perez, Direccion: Calle 54 numero 7, Año: tercer año, Asignaturas: Matematicas, quimica, fisica, calculo, Actividades extraprogramaticas: Esgrima, polo, danza\n",
      "Rut: 19475269-2, Nombre: Isabel, Apellidos: Castro Tapia, Direccion: Pasaje Miqueas 436, Año: segundo año, Asignaturas: Lenguaje, ingles, educacion fisica, biologia, Actividades extraprogramaticas: no aplica\n",
      "{'18647526-8': <__main__.Alumno object at 0x00000168DBD004C8>, '19475269-2': <__main__.Alumno object at 0x00000168DBCCD2C8>}\n"
     ]
    }
   ],
   "source": [
    "class Persona(object):\n",
    "    def __init__(self,nombre,apellidos):   # metodo magico _init_ + abstraccion de clase donde se entregan las caracteristicas de la clase\n",
    "        self.nombre = nombre\n",
    "        self.apellidos = apellidos\n",
    "        \n",
    "        \n",
    "    def __str__(self):\n",
    "        return \"Rut: {}, nombre: {}, apellidos: {}, direccion: {}\".format(self.rut, self.nombre, self.apellidos, self.direccion)\n",
    "       \n",
    "        \n",
    "class Apoderado(Persona):\n",
    "    def __init__(self,nombre,apellidos,rut,direccion):   # metodo magico _init_\n",
    "    \n",
    "        Persona.__init__(self, nombre, apellidos)  # abstraccion de clase, donde se entregan las caracteristicas de la clase\n",
    "        self.rut = rut\n",
    "        self.direccion = direccion\n",
    "\n",
    "Lista_apo = []\n",
    "Diccionario_apo = {}\n",
    "\n",
    "\n",
    "apoderado1 = Apoderado(input(\"Ingrese el nombre del apoderado: \"),     # interfaz de objetos\n",
    "                     input(\"Ingrese los apellidos del apoderado: \"),\n",
    "                     input(\"Ingrese el rut del apoderado: \"),\n",
    "                     input(\"Ingrese la direccion del apoderado: \"),)\n",
    "\n",
    "\n",
    "Diccionario_apo[apoderado1.rut] = apoderado1\n",
    "\n",
    "Apo_1 = apoderado1   # clonacion de objetos\n",
    "\n",
    "apoderado2 = Apoderado(input(\"Ingrese el nombre del apoderado: \"),   # interfaz de objetos\n",
    "                     input(\"Ingrese los apellidos del apoderado: \"),\n",
    "                     input(\"Ingrese el rut del apoderado: \"),\n",
    "                     input(\"Ingrese la direccion del apoderado: \"),)\n",
    "\n",
    "\n",
    "Diccionario_apo[apoderado2.rut] = apoderado2\n",
    "\n",
    "Apo_2 = apoderado2     # clonacion de objetos\n",
    "\n",
    "Lista_apo.append(Diccionario_apo.copy())\n",
    "\n",
    "informacion = lambda: print(Apo_1)   # clase anonima\n",
    "informacion()\n",
    "informacion = lambda: print(Apo_2)   # clase anonima + sobrecarga\n",
    "informacion()\n",
    "\n",
    "\n",
    "for i in Lista_apo:   # iteracion de objetos en la lista\n",
    "    print(i)\n",
    "\n",
    "class Alumno(Apoderado):\n",
    "    def __init__(self,nombre,apellidos,rut,direccion,anio,asignaturas,extra):  # metodo magico _init_ \n",
    "    \n",
    "        Apoderado.__init__(self, nombre, apellidos,rut,direccion)    # abstraccion de clase donde se entregan las caracteristicas de la clase\n",
    "        self.anio = anio\n",
    "        self.asignaturas = asignaturas\n",
    "        self.extra = extra\n",
    "        \n",
    "    def __str__(self): # metodo sobrecargado\n",
    "        return \"Rut: {}, Nombre: {}, Apellidos: {}, Direccion: {}, Año: {}, Asignaturas: {}, Actividades extraprogramaticas: {}\".format(self.rut,\n",
    "                                                                                                                                        self.nombre,\n",
    "                                                                                                                                        self.apellidos, self.direccion,\n",
    "                                                                                                                                        self.anio, self.asignaturas, self.extra)\n",
    "\n",
    "Lista_alu = []\n",
    "Diccionario_alu = {}\n",
    "\n",
    "\n",
    "alumno1 = Alumno(input(\"Ingrese el nombre del alumno: \"),       # interfaz de objetos\n",
    "                     input(\"Ingrese los apellidos del alumno: \"),\n",
    "                     input(\"Ingrese el rut del alumno: \"),\n",
    "                     input(\"Ingrese la direccion del alumno: \"),\n",
    "                     input(\"Ingrese el año cursado por el alumno: \"),\n",
    "                     input(\"Ingrese las asignaturas a cursar por el alumno: \"),\n",
    "                     input(\"Ingrese las actividades extraprogramaticas, si aplica: \"),)\n",
    "\n",
    "\n",
    "Diccionario_alu[alumno1.rut] = alumno1\n",
    "\n",
    "Alu_1 = alumno1   # clonacion de objetos\n",
    " \n",
    "alumno2 = Alumno(input(\"Ingrese el nombre del alumno: \"),   # interfaz de objetos\n",
    "                     input(\"Ingrese los apellidos del alumno: \"),\n",
    "                     input(\"Ingrese el rut del alumno: \"),\n",
    "                     input(\"Ingrese la direccion del alumno: \"),\n",
    "                     input(\"Ingrese el año cursado por el alumno: \"),\n",
    "                     input(\"Ingrese las asignaturas a cursar por el alumno: \"),\n",
    "                     input(\"Ingrese las actividades extraprogramaticas, si aplica: \"),)\n",
    "\n",
    "\n",
    "Diccionario_alu[alumno2.rut] = alumno2\n",
    "\n",
    "Alu_2 = alumno2   # clonacion de objetos\n",
    "\n",
    "Lista_alu.append(Diccionario_alu.copy())\n",
    "\n",
    "informacion = lambda: print(Alu_1)   # clase anonima + sobrecarga\n",
    "informacion()\n",
    "informacion = lambda: print(Alu_2)   # clase anonima + sobrecarga\n",
    "informacion()\n",
    "\n",
    "for i in Lista_alu:    # iteracion de objetos en la lista\n",
    "    print(i)"
   ]
  },
  {
   "cell_type": "code",
   "execution_count": null,
   "metadata": {},
   "outputs": [],
   "source": []
  }
 ],
 "metadata": {
  "kernelspec": {
   "display_name": "Python 3",
   "language": "python",
   "name": "python3"
  },
  "language_info": {
   "codemirror_mode": {
    "name": "ipython",
    "version": 3
   },
   "file_extension": ".py",
   "mimetype": "text/x-python",
   "name": "python",
   "nbconvert_exporter": "python",
   "pygments_lexer": "ipython3",
   "version": "3.7.4"
  }
 },
 "nbformat": 4,
 "nbformat_minor": 4
}
