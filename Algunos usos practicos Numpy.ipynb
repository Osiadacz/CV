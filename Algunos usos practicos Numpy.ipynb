{
 "cells": [
  {
   "cell_type": "code",
   "execution_count": 1,
   "metadata": {},
   "outputs": [
    {
     "name": "stdout",
     "output_type": "stream",
     "text": [
      "[2 3 4]\n",
      "[[2 5 1]\n",
      " [5 6 3]\n",
      " [8 9 2]]\n"
     ]
    }
   ],
   "source": [
    "import numpy as np\n",
    "\n",
    "a = np.array([2,3,4])\n",
    "b = np.array([[2,5,1],[5,6,3],[8,9,2]])\n",
    "\n",
    "print(a)\n",
    "print(b)"
   ]
  },
  {
   "cell_type": "code",
   "execution_count": 2,
   "metadata": {},
   "outputs": [
    {
     "name": "stdout",
     "output_type": "stream",
     "text": [
      "Numero elementos en a 3\n",
      "Numero elementos en b 9\n"
     ]
    }
   ],
   "source": [
    "print(\"Numero elementos en a\",a.size)   #para saber el numero de elementos en el arreglo\n",
    "print(\"Numero elementos en b\",b.size)"
   ]
  },
  {
   "cell_type": "code",
   "execution_count": 4,
   "metadata": {},
   "outputs": [
    {
     "name": "stdout",
     "output_type": "stream",
     "text": [
      "[285.25 286.15 290.45 291.5  294.05 293.05 292.7  292.85 292.05 291.6\n",
      " 288.25 288.55]\n"
     ]
    }
   ],
   "source": [
    "TempC = [12.10,13.00,17.30,18.35,20.90,19.90,19.55,19.70,18.90,18.45,15.10,15.40]\n",
    "arregloTemp = np.array(TempC)     # para transformar una lista en un arreglo\n",
    "print(arregloTemp+273.15)"
   ]
  },
  {
   "cell_type": "code",
   "execution_count": 6,
   "metadata": {},
   "outputs": [
    {
     "name": "stdout",
     "output_type": "stream",
     "text": [
      "Valor anterior:  1\n",
      "Valor actual:  2\n",
      "Valor anterior:  3\n",
      "Valor actual:  6\n",
      "Valor anterior:  5\n",
      "Valor actual:  10\n",
      "Valor anterior:  7\n",
      "Valor actual:  14\n",
      "Valor anterior:  9\n",
      "Valor actual:  18\n",
      "Valor anterior:  11\n",
      "Valor actual:  22\n"
     ]
    }
   ],
   "source": [
    "t = np.array([0,1,2,3,4,5,6,7,8,9,10,11,12])\n",
    "\n",
    "for i in range(0,12,2):\n",
    "    print(\"Valor anterior: \",t[i+1])\n",
    "    t[i+1] = t[i+1]*2\n",
    "    print(\"Valor actual: \",t[i+1])"
   ]
  },
  {
   "cell_type": "code",
   "execution_count": 8,
   "metadata": {},
   "outputs": [
    {
     "name": "stdout",
     "output_type": "stream",
     "text": [
      "[[1 1]\n",
      " [0 2]]\n"
     ]
    }
   ],
   "source": [
    "A = np.array([[1,1],[0,1]])\n",
    "\n",
    "for j in range(0,2):\n",
    "    A[1][j] = A[1][j]*2\n",
    "\n",
    "print(A)"
   ]
  },
  {
   "cell_type": "code",
   "execution_count": 17,
   "metadata": {},
   "outputs": [
    {
     "name": "stdin",
     "output_type": "stream",
     "text": [
      "Ingrese temperatura dia Lunes primera semana:  18.5\n",
      "Ingrese temperatura dia Martes primera semana:  16.7\n",
      "Ingrese temperatura dia Miercoles primera semana:  19.0\n",
      "Ingrese temperatura dia Jueves primera semana:  21.4\n",
      "Ingrese temperatura dia Lunes segunda semana:  21.8\n",
      "Ingrese temperatura dia Martes segunda semana:  22.2\n",
      "Ingrese temperatura dia Miercoles segunda semana:  20.3\n",
      "Ingrese temperatura dia Jueves segunda semana:  18.8\n"
     ]
    },
    {
     "name": "stdout",
     "output_type": "stream",
     "text": [
      "Datos semana 1:  [18.5 16.7 19.  21.4]\n",
      "Datos semana 2:  [21.8 22.2 20.3 18.8]\n",
      "Datos promedio por dia:  [20.15 19.45 19.65 20.1 ]\n"
     ]
    }
   ],
   "source": [
    "import numpy as np\n",
    "\n",
    "semana_1 = np.array([])\n",
    "semana_2 = np.array([])\n",
    "\n",
    "\n",
    "Lunes_1 = float(input(\"Ingrese temperatura dia Lunes primera semana: \"))\n",
    "Martes_1 = float(input(\"Ingrese temperatura dia Martes primera semana: \"))\n",
    "Miercoles_1 = float(input(\"Ingrese temperatura dia Miercoles primera semana: \"))\n",
    "Jueves_1 = float(input(\"Ingrese temperatura dia Jueves primera semana: \"))\n",
    " \n",
    "Lunes_2 = float(input(\"Ingrese temperatura dia Lunes segunda semana: \"))\n",
    "Martes_2 = float(input(\"Ingrese temperatura dia Martes segunda semana: \"))\n",
    "Miercoles_2 = float(input(\"Ingrese temperatura dia Miercoles segunda semana: \"))\n",
    "Jueves_2 = float(input(\"Ingrese temperatura dia Jueves segunda semana: \"))\n",
    "\n",
    "semana_1 = np.append(semana_1,[Lunes_1,Martes_1,Miercoles_1,Jueves_1])\n",
    "semana_2 = np.append(semana_2,[Lunes_2,Martes_2,Miercoles_2,Jueves_2])\n",
    "\n",
    "promedio = np.array((semana_1+semana_2)/2)\n",
    "\n",
    "print(\"Datos semana 1: \",semana_1)\n",
    "print(\"Datos semana 2: \",semana_2)\n",
    "print(\"Datos promedio por dia: \",promedio)"
   ]
  },
  {
   "cell_type": "code",
   "execution_count": 16,
   "metadata": {},
   "outputs": [
    {
     "name": "stdin",
     "output_type": "stream",
     "text": [
      "Ingrese temperatura dia Lunes primera semana:  18.5\n",
      "Ingrese temperatura dia Martes primera semana:  16.7\n",
      "Ingrese temperatura dia Miercoles primera semana:  19.0\n",
      "Ingrese temperatura dia Jueves primera semana:  21.4\n",
      "Ingrese temperatura dia Lunes segunda semana:  21.8\n",
      "Ingrese temperatura dia Martes segunda semana:  22.2\n",
      "Ingrese temperatura dia Miercoles segunda semana:  20.3\n",
      "Ingrese temperatura dia Jueves segunda semana:  18.8\n"
     ]
    },
    {
     "name": "stdout",
     "output_type": "stream",
     "text": [
      "Datos semana 1:  [18.5 16.7 19.  21.4]\n",
      "Datos semana 2:  [21.8 22.2 20.3 18.8]\n",
      "Datos promedio por dia:  [20.15 19.45 19.65 20.1 ]\n"
     ]
    }
   ],
   "source": [
    "def promedio(a,b):\n",
    "    return np.array(a+b)/2\n",
    "            \n",
    "semana_1 = np.array([])\n",
    "semana_2 = np.array([])\n",
    "\n",
    "\n",
    "Lunes_1 = float(input(\"Ingrese temperatura dia Lunes primera semana: \"))\n",
    "Martes_1 = float(input(\"Ingrese temperatura dia Martes primera semana: \"))\n",
    "Miercoles_1 = float(input(\"Ingrese temperatura dia Miercoles primera semana: \"))\n",
    "Jueves_1 = float(input(\"Ingrese temperatura dia Jueves primera semana: \"))\n",
    " \n",
    "Lunes_2 = float(input(\"Ingrese temperatura dia Lunes segunda semana: \"))\n",
    "Martes_2 = float(input(\"Ingrese temperatura dia Martes segunda semana: \"))\n",
    "Miercoles_2 = float(input(\"Ingrese temperatura dia Miercoles segunda semana: \"))\n",
    "Jueves_2 = float(input(\"Ingrese temperatura dia Jueves segunda semana: \"))\n",
    "\n",
    "semana_1 = np.append(semana_1,[Lunes_1,Martes_1,Miercoles_1,Jueves_1])\n",
    "semana_2 = np.append(semana_2,[Lunes_2,Martes_2,Miercoles_2,Jueves_2])\n",
    "\n",
    "a = semana_1\n",
    "b = semana_2\n",
    "\n",
    "print(\"Datos semana 1: \",semana_1)\n",
    "print(\"Datos semana 2: \",semana_2)\n",
    "print(\"Datos promedio por dia: \",promedio(a,b))"
   ]
  }
 ],
 "metadata": {
  "kernelspec": {
   "display_name": "Python 3",
   "language": "python",
   "name": "python3"
  },
  "language_info": {
   "codemirror_mode": {
    "name": "ipython",
    "version": 3
   },
   "file_extension": ".py",
   "mimetype": "text/x-python",
   "name": "python",
   "nbconvert_exporter": "python",
   "pygments_lexer": "ipython3",
   "version": "3.7.4"
  }
 },
 "nbformat": 4,
 "nbformat_minor": 4
}
